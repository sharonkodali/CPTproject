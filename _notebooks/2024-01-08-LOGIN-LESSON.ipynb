{
 "cells": [
  {
   "cell_type": "markdown",
   "metadata": {},
   "source": [
    "---\n",
    "layout: base\n",
    "title: Login Lesson\n",
    "description: SASS + JavaScript Login/Signup pages\n",
    "author: Finn C, Theo H, Justin N\n",
    "permalink: lesson\n",
    "type: hacks\n",
    "courses: { csa: {week: 18} }\n",
    "---"
   ]
  },
  {
   "cell_type": "markdown",
   "metadata": {},
   "source": [
    "# Login and Sign up Page Lesson\n",
    "\n",
    "# Sign up/Login Wireframes\n",
    "\n",
    "## What the common HTML elements needed\n",
    "- Container: The Div that holds all the elements inside of it, first layer\n",
    "    - Common SASS that a Container will have:\n",
    "    - display\n",
    "    - justify-content/align items\n",
    "    - color\n",
    "- Card: A Div that will hold username, password buttons\n",
    "- _________ and ________: Where the user will put there information/login\n",
    "\n",
    "## Needed HTML properties\n",
    "- Most HTML Elements:\n",
    "    - _____: used to assign html elements to there own SASS\n",
    "    - id: used mostly in javascript to identify a single element in an entire page full of HTML\n",
    "- _____:\n",
    "    - Placeholder: puts text inside an input to help the user what to input\n",
    "- Buttons:\n",
    "    - onclick: runs a javascript function when clicked\n",
    "    - note: onclick can be replaced with event listeners, although onclick is simpler to code\n",
    "\n",
    "\n",
    "# Bare Code\n",
    "```html\n",
    "<div class=\"CONTAINER\">\n",
    "    <div class=\"CARD\">\n",
    "        <h3>Login</h3>\n",
    "        <input id=\"signInEmailInput\" class=\"input\" placeholder=\"Email\">\n",
    "        <input id=\"signInPasswordInput\" class=\"input\" placeholder=\"Password\">\n",
    "        <button class=\"signInButton\" onclick=\"login_user()\">Login</button>\n",
    "    </div>\n",
    "</div>\n",
    "```"
   ]
  },
  {
   "cell_type": "markdown",
   "metadata": {},
   "source": [
    "<div class=\"CONTAINER\">\n",
    "    <div class=\"CARD\">\n",
    "        <h3>Login</h3>\n",
    "        <input id=\"signInEmailInput\" class=\"input\" placeholder=\"Email\">\n",
    "        <input id=\"signInPasswordInput\" class=\"input\" placeholder=\"Password\">\n",
    "        <button class=\"signInButton\" onclick=\"login_user()\">Login</button>\n",
    "    </div>\n",
    "</div>"
   ]
  },
  {
   "cell_type": "markdown",
   "metadata": {},
   "source": [
    "<br>\n",
    "\n",
    "# SASS\n",
    "- Be SASSy when it come to designing your wireframes\n",
    "- Nobody wants to look at some boring designs when signing up or logging in\n",
    "- Make sure to add some ____ to your code \n",
    "\n",
    "## Not SASSy code\n",
    "![no sass](https://raw.githubusercontent.com/F1nnC/Login-Lesson/main/images/mortSASS.png)\n",
    "\n",
    "## SASSy Code\n",
    "<div class=\"login-container\">\n",
    "    <div class=\"card\">\n",
    "        <h3>Login</h3>\n",
    "        <div class=\"Email\">\n",
    "            <input id=\"signInEmailInput\" class=\"input\" placeholder=\"Email\">\n",
    "        </div>\n",
    "        <div class=\"Password\">\n",
    "            <input id=\"signInPasswordInput\" class=\"input\" placeholder=\"Password\">\n",
    "        </div>\n",
    "        <div class=\"Buttons\">\n",
    "            <button class=\"signInButton\">Login</button>\n",
    "        </div>\n",
    "    </div>\n",
    "</div>\n",
    "\n",
    "# Copy this code into your custom-styles.scss\n",
    "```scss\n",
    "// Cool color palette\n",
    "$color1: #5D737E; $color2: #64B6AC; $color3: #D0F4DE; $color4: #1B4332; \n",
    "// Warm color palette\n",
    "$color5: #FFB447; $color6: #FF3E4D;  $color7: #FF1E56; $color8: #FFBD69; \n",
    "\n",
    "// Animating Backgrounds\n",
    "@keyframes fade1 {\n",
    "    0% { background-color: $color1} 25% { background-color: $color2} 50% { background-color: $color3} 75% { background-color: $color4} 100% { background-color: $color1}\n",
    "  }\n",
    "  \n",
    "@keyframes fade2 {\n",
    "    0% { background-color: $color5} 25% { background-color: $color6} 50% { background-color: $color7} 75% { background-color: $color8} 100% { background-color: $color5}\n",
    "}\n",
    "\n",
    ".login-container {\n",
    "    display: flex;\n",
    "    justify-content: center;\n",
    "    align-items: center;\n",
    "    color: black;\n",
    "    .card {\n",
    "        width: 300px;\n",
    "        padding: 20px;\n",
    "        border-radius: 10px;\n",
    "        box-shadow: 0px 0px 10px rgba(0, 0, 0, 0.1);\n",
    "        animation: fade1 5s ease infinite; \n",
    "    }\n",
    "    .card2 {\n",
    "        width: 300px;\n",
    "        padding: 20px;\n",
    "        border-radius: 10px;\n",
    "        box-shadow: 0px 0px 10px rgba(0, 0, 0, 0.1);\n",
    "        animation: fade2 5s ease infinite;\n",
    "    }\n",
    "    h3 {\n",
    "        margin-bottom: 20px;\n",
    "    }\n",
    "    .input {\n",
    "        width: 100%;\n",
    "        padding: 10px;\n",
    "        margin-bottom: 10px;\n",
    "    }\n",
    "}\n",
    "```\n",
    "\n",
    "# Popcorn Hacks\n",
    "- Change the colors in the keyframe animation\n",
    "- Extra points if you can make a completely different keyframe that looks cool\n"
   ]
  },
  {
   "cell_type": "markdown",
   "metadata": {},
   "source": [
    "# overview of userDbRequest function (part 1 of the login/signup puzzle)\n",
    "\n",
    "### what does this even do?\n",
    "\n",
    "- primary function is to add data to our frontend html fragment, which will store our data.\n",
    "- this would be a creating data in our frontend database view which users can see with authentication aka login. (part 2)"
   ]
  },
  {
   "cell_type": "markdown",
   "metadata": {},
   "source": [
    "<!-- HTML table fragment for page -->\n",
    "<table>\n",
    "  <thead>\n",
    "  <tr>\n",
    "    <th>Name</th>\n",
    "    <th>ID</th>\n",
    "    <th>Age</th>\n",
    "  </tr>\n",
    "  </thead>\n",
    "  <tbody id=\"result\">\n",
    "    <!-- javascript generated data -->\n",
    "  </tbody>\n",
    "</table>"
   ]
  },
  {
   "cell_type": "markdown",
   "metadata": {},
   "source": [
    "this html fragment represents our table which we fill with data using our function."
   ]
  },
  {
   "cell_type": "code",
   "execution_count": null,
   "metadata": {
    "vscode": {
     "languageId": "javascript"
    }
   },
   "outputs": [],
   "source": [
    "function userDbRequest() {\n",
    "\n",
    "    // prepare HTML result container for new output\n",
    "    const resultContainer = document.getElementById(\"result\");\n",
    "\n",
    "    // set options for cross origin header request\n",
    "    const options = {\n",
    "      method: 'GET', // *GET, POST, PUT, DELETE, etc.\n",
    "      mode: 'cors', // no-cors, *cors, same-origin\n",
    "      cache: 'default', // *default, no-cache, reload, force-cache, only-if-cached\n",
    "      credentials: 'include', // include, *same-origin, omit\n",
    "      headers: {\n",
    "        'Content-Type': 'application/json',\n",
    "      },\n",
    "    };\n",
    "\n",
    "    fetch(\"http://localhost:8085/api/person/\", options)\n",
    "      .then(response => {\n",
    "        if (response.status !== 200) {\n",
    "            const errorMsg = 'Database response error: ' + response.status;\n",
    "            console.log(errorMsg);\n",
    "            const tr = document.createElement(\"tr\");\n",
    "            const td = document.createElement(\"td\");\n",
    "            td.innerHTML = errorMsg;\n",
    "            tr.appendChild(td);\n",
    "            resultContainer.appendChild(tr);\n",
    "            return;\n",
    "        }\n",
    "        // valid response will contain json data\n",
    "        response.json().then(data => {\n",
    "            console.log(data);\n",
    "            for (const row of data) {\n",
    "              // tr and td build out for each row\n",
    "              const tr = document.createElement(\"tr\");\n",
    "              const name = document.createElement(\"td\");\n",
    "              const id = document.createElement(\"td\");\n",
    "              const age = document.createElement(\"td\");\n",
    "              // data is specific to the API\n",
    "              name.innerHTML = row.name;\n",
    "              id.innerHTML = row.email;\n",
    "              age.innerHTML = row.age;\n",
    "              // this build td's into tr\n",
    "              tr.appendChild(name);\n",
    "              tr.appendChild(id);\n",
    "              tr.appendChild(age);\n",
    "              // add HTML to container\n",
    "              resultContainer.appendChild(tr);\n",
    "            }\n",
    "        })\n",
    "    })\n",
    "    // catch fetch errors (ie ACCESS to server blocked)\n",
    "    .catch(err => {\n",
    "      console.error(err);\n",
    "      const tr = document.createElement(\"tr\");\n",
    "      const td = document.createElement(\"td\");\n",
    "      td.innerHTML = err + \": \" + url;\n",
    "      tr.appendChild(td);\n",
    "      resultContainer.appendChild(tr);\n",
    "    });\n",
    "  }"
   ]
  },
  {
   "cell_type": "markdown",
   "metadata": {},
   "source": [
    "# popcorn hack\n",
    "- make sure you understand how you can adapt this to your project. What role with userDbRequest() play in your project? How will the row and column values be changed for your specific purposes?"
   ]
  },
  {
   "cell_type": "markdown",
   "metadata": {},
   "source": [
    "# LOG IN"
   ]
  },
  {
   "cell_type": "markdown",
   "metadata": {},
   "source": [
    "# overview of user authentication aka how to do login (part 2 of the login/signup puzzle)\n",
    "\n",
    "### what do we need to do for login?\n",
    "\n",
    "1. create function that sends authentication request to backend\n",
    "2. create backend methods to only allow authenticated users to send GET request to backend when accessing the database on frontend\n",
    "3. implement those backend methods into frontend\n",
    "\n",
    "\n",
    "# figure 1-A: function login_user in frontend"
   ]
  },
  {
   "cell_type": "code",
   "execution_count": null,
   "metadata": {
    "vscode": {
     "languageId": "javascript"
    }
   },
   "outputs": [],
   "source": [
    "function login_user() {\n",
    "    var myHeaders = new Headers();\n",
    "    myHeaders.append(\"Content-Type\", \"application/json\");\n",
    "\n",
    "    // STEP ONE: COLLECT USER INPUT\n",
    "    var raw = JSON.stringify({\n",
    "        \"email\": document.getElementById(\"signInEmailInput\").value,\n",
    "        \"password\": document.getElementById(\"signInPasswordInput\").value\n",
    "\n",
    "        // For quick testing\n",
    "        //\"email\": \"toby@gmail.com\",\n",
    "        //\"password\": \"123Toby!\"\n",
    "    });\n",
    "    console.log(raw);\n",
    "\n",
    "    var requestOptions = {\n",
    "        method: 'POST',\n",
    "        headers: myHeaders,\n",
    "        credentials: 'include',\n",
    "        body: raw,\n",
    "        redirect: 'follow'\n",
    "    };\n",
    "\n",
    "    // STEP TWO: SEND REQUEST TO BACKEND AND GET JWT COOKIE\n",
    "    fetch(\"http://localhost:8085/authenticate\", requestOptions)\n",
    "    .then(response => {\n",
    "        if (!response.ok) {\n",
    "            const errorMsg = 'Login error: ' + response.status;\n",
    "            console.log(errorMsg);\n",
    "\n",
    "            switch (response.status) {\n",
    "                case 401:\n",
    "                    alert(\"Incorrect username or password\");\n",
    "                    break;\n",
    "                case 403:\n",
    "                    alert(\"Access forbidden. You do not have permission to access this resource.\");\n",
    "                    break;\n",
    "                case 404:\n",
    "                    alert(\"User not found. Please check your credentials.\");\n",
    "                    break;\n",
    "                // Add more cases for other status codes as needed\n",
    "                default:\n",
    "                    alert(\"Login failed. Please try again later.\");\n",
    "            }\n",
    "\n",
    "            return Promise.reject('Login failed');\n",
    "        }\n",
    "        return response.text()\n",
    "    })\n",
    "    .then(result => {\n",
    "        console.log(result);\n",
    "        window.location.href = \"http://127.0.0.1:4100/Login-Lesson/account\";\n",
    "    })\n",
    "    .catch(error => console.error('Error during login:', error));\n",
    "\n",
    "}"
   ]
  },
  {
   "cell_type": "markdown",
   "metadata": {},
   "source": [
    "# what does it do?\n",
    "\n",
    "this function sends an authentication request to backend, which then redirects to our database page.\n",
    "\n",
    "the authentication request in question is located in spring_portfolio/mvc/jwt/JwtApiController.java \n",
    "\n",
    "FOR REFERENCE:"
   ]
  },
  {
   "cell_type": "code",
   "execution_count": null,
   "metadata": {},
   "outputs": [],
   "source": [
    "@PostMapping(\"/authenticate\")\n",
    "\tpublic ResponseEntity<?> createAuthenticationToken(@RequestBody Person authenticationRequest) throws Exception {\n",
    "\t\tauthenticate(authenticationRequest.getEmail(), authenticationRequest.getPassword());\n",
    "\t\tfinal UserDetails userDetails = personDetailsService\n",
    "\t\t\t\t.loadUserByUsername(authenticationRequest.getEmail());\n",
    "\t\tfinal String token = jwtTokenUtil.generateToken(userDetails);\n",
    "\t\tfinal ResponseCookie tokenCookie = ResponseCookie.from(\"jwt\", token)\n",
    "\t\t\t.httpOnly(true)\n",
    "\t\t\t.secure(true)\n",
    "\t\t\t.path(\"/\")\n",
    "\t\t\t.maxAge(3600)\n",
    "\t\t\t.sameSite(\"None; Secure\")\n",
    "\t\t\t// .domain(\"example.com\") // Set to backend domain\n",
    "\t\t\t.build();\n",
    "\t\treturn ResponseEntity.ok().header(HttpHeaders.SET_COOKIE, tokenCookie.toString()).build();\n",
    "\t}\n",
    "\n",
    "\tprivate void authenticate(String username, String password) throws Exception {\n",
    "\t\ttry {\n",
    "\t\t\tauthenticationManager.authenticate(new UsernamePasswordAuthenticationToken(username, password));\n",
    "\t\t} catch (DisabledException e) {\n",
    "\t\t\tthrow new Exception(\"USER_DISABLED\", e);\n",
    "\t\t} catch (BadCredentialsException e) {\n",
    "\t\t\tthrow new Exception(\"INVALID_CREDENTIALS\", e);\n",
    "\t\t} catch (Exception e) {\n",
    "\t\t\tthrow new Exception(e);\n",
    "\t\t}\n",
    "\t}\n"
   ]
  },
  {
   "cell_type": "markdown",
   "metadata": {},
   "source": [
    "this is the authentication method we are calling to, which provides us with the cookie we need for access to our database.\n",
    "\n",
    "# figure 1-B: function user_data in frontend db"
   ]
  },
  {
   "cell_type": "code",
   "execution_count": null,
   "metadata": {
    "vscode": {
     "languageId": "javascript"
    }
   },
   "outputs": [],
   "source": [
    "\n",
    "function fetchUserData() {\n",
    "    var requestOptions = {\n",
    "      method: 'GET',\n",
    "      mode: 'cors',\n",
    "      cache: 'default',\n",
    "      credentials: 'include',\n",
    "    };\n",
    "\n",
    "    fetch(\"http://localhost:8085/api/person/jwt\", requestOptions)\n",
    "      .then(response => {\n",
    "              if (!response.ok) {\n",
    "                  const errorMsg = 'Login error: ' + response.status;\n",
    "                  console.log(errorMsg);\n",
    "\n",
    "                  switch (response.status) {\n",
    "                      case 401:\n",
    "                          alert(\"Please log into or make an account\");\n",
    "                          window.location.href = \"http://127.0.0.1:4100/Login-Lesson/loginSignup\";\n",
    "                          break;\n",
    "                      case 403:\n",
    "                          alert(\"Access forbidden. You do not have permission to access this resource.\");\n",
    "                          break;\n",
    "                      case 404:\n",
    "                          alert(\"User not found. Please check your credentials.\");\n",
    "                          break;\n",
    "                      // Add more cases for other status codes as needed\n",
    "                      default:\n",
    "                          alert(\"Login failed. Please try again later.\");\n",
    "                  }\n",
    "\n",
    "                  return Promise.reject('Login failed');\n",
    "              }\n",
    "              return response.json();\n",
    "              // Success!!!\n",
    "          })\n",
    "      .then(data => {\n",
    "        // Display user data above the table\n",
    "        const userDataContainer = document.getElementById(\"userData\");\n",
    "        userDataContainer.innerHTML = `\n",
    "          <img src=\"/Login-Lesson/images/defaultUser.png\" width=\"250\" height=\"250\">\n",
    "          <h1><strong>${data.name}</strong></h1>\n",
    "          <p>Email: ${data.email}</p>\n",
    "          <p>Age: ${data.age}</p>\n",
    "          <p>ID: ${data.id}</p>\n",
    "          <button onclick=\"signOut()\">Sign Out</button>\n",
    "        `;\n",
    "        console.log(data);\n",
    "      })\n",
    "      .catch(error => console.log('error', error));\n",
    "}"
   ]
  },
  {
   "cell_type": "markdown",
   "metadata": {},
   "source": [
    "# what does it do?\n",
    "\n",
    "this function resides in our database display on our frontend, and does 2 things\n",
    "\n",
    "1. access our jwt method and check for authentication, then get the database if so\n",
    "2. handle errors for when authentication fails\n",
    "\n",
    "# backend method"
   ]
  },
  {
   "cell_type": "code",
   "execution_count": null,
   "metadata": {},
   "outputs": [],
   "source": [
    "@GetMapping(\"/jwt\")\n",
    "@PreAuthorize(\"isAuthenticated()\")  // Restrict access to authenticated users\n",
    "public ResponseEntity<Person> getAuthenticatedPersonData() {\n",
    "    String username = SecurityContextHolder.getContext().getAuthentication().getName();\n",
    "    Person person = repository.findByEmail(username);  // Retrieve data for the authenticated user\n",
    "    return new ResponseEntity<>(person, HttpStatus.OK);\n",
    "}"
   ]
  },
  {
   "cell_type": "markdown",
   "metadata": {},
   "source": [
    "# so how do I add login?\n",
    "\n",
    "1. create a login function on the frontend which can send authentication request to backend. make sure it passes user input as variables for the authentication request\n",
    "2. in database page, create method which calls a get method that checks for authentication first before displaying the data.\n",
    "3. add error handling for when our authentication fails"
   ]
  },
  {
   "cell_type": "markdown",
   "metadata": {},
   "source": [
    "# SIGN UP"
   ]
  },
  {
   "cell_type": "markdown",
   "metadata": {},
   "source": [
    "## Steps\n",
    "1. Collect user input\n",
    "2. Put user input into a url as parameters\n",
    "3. Send POST to backend to make user\n",
    "3. (RECOMMENDED) Redirect/Refresh page"
   ]
  },
  {
   "cell_type": "code",
   "execution_count": null,
   "metadata": {
    "vscode": {
     "languageId": "javascript"
    }
   },
   "outputs": [],
   "source": [
    "function signup_user() {\n",
    "    var requestOptions = {\n",
    "        method: 'POST',\n",
    "        mode: 'cors',\n",
    "        cache: 'no-cache'\n",
    "    };\n",
    "\n",
    "    // Collect user input\n",
    "    let fetchName = document.getElementById(\"signUpNameInput\").value;\n",
    "    let fetchEmail = document.getElementById(\"signUpEmailInput\").value;\n",
    "    let fetchPassword = document.getElementById(\"signUpPasswordInput\").value;\n",
    "    let fetchDob = document.getElementById(\"signUpDobInput\").value;\n",
    "\n",
    "    // Posting in backend only works if user input is sent as query parameters\n",
    "    let requestURL = `http://localhost:8085/api/person/post?email=${fetchEmail}&password=${fetchPassword}&name=${fetchName}&dob=${fetchDob}`;\n",
    "    console.log(requestURL)\n",
    "\n",
    "    fetch(requestURL, requestOptions)\n",
    "    .then(response => {\n",
    "            if (!response.ok) {\n",
    "                return response.text().then(errorMsg => {\n",
    "                    alert('Error: ' + errorMsg);\n",
    "                });\n",
    "            }\n",
    "            // Success!!!\n",
    "            alert(\"Signup Complete\");\n",
    "            // Redirect to Database location\n",
    "            location.reload();\n",
    "        })\n",
    "        .catch(error => {\n",
    "            alert('An unexpected error occurred: ' + error.message);\n",
    "        });\n",
    "}"
   ]
  },
  {
   "cell_type": "markdown",
   "metadata": {},
   "source": [
    "# Notable Backend Code"
   ]
  },
  {
   "cell_type": "markdown",
   "metadata": {},
   "source": [
    "## Security"
   ]
  },
  {
   "cell_type": "code",
   "execution_count": null,
   "metadata": {},
   "outputs": [],
   "source": [
    ".authorizeHttpRequests(auth -> auth\n",
    "\t.requestMatchers(\"/authenticate\").permitAll()\n",
    "    .requestMatchers(\"/mvc/person/update/**\", \"/mvc/person/delete/**\").authenticated()\n",
    "\n",
    "    // .requestMatchers(\"/api/person/post/**\", \"/api/person/delete/**\").authenticated()\n",
    "    // Removed so anyone without a cookie can post\n",
    "\n",
    "    .requestMatchers(\"/api/person/delete/**\").authenticated()\n",
    "    .requestMatchers(\"/**\").permitAll()\n",
    ")"
   ]
  },
  {
   "cell_type": "markdown",
   "metadata": {},
   "source": [
    "# Endpoint Mapping"
   ]
  },
  {
   "cell_type": "code",
   "execution_count": null,
   "metadata": {},
   "outputs": [],
   "source": [
    "@PostMapping( \"/post\")\n",
    "// @RequestParam is why user input needs to be a parameter\n",
    "public ResponseEntity<Object> postPerson(@RequestParam(\"email\") String email,\n",
    "                                         @RequestParam(\"password\") String password,\n",
    "                                         @RequestParam(\"name\") String name,\n",
    "                                         @RequestParam(\"dob\") String dobString) {\n",
    "    Date dob;\n",
    "    // dob handling\n",
    "    try {\n",
    "        dob = new SimpleDateFormat(\"MM-dd-yyyy\").parse(dobString);\n",
    "    } catch (Exception e) {\n",
    "        return new ResponseEntity<>(dobString +\" error; try MM-dd-yyyy\", HttpStatus.BAD_REQUEST);\n",
    "    }\n",
    "    // A person object WITHOUT ID will create a new record with default roles as student\n",
    "    Person person = new Person(email, password, name, dob);\n",
    "    personDetailsService.save(person);\n",
    "    return new ResponseEntity<>(email +\" is created successfully\", HttpStatus.CREATED);\n",
    "}"
   ]
  },
  {
   "cell_type": "markdown",
   "metadata": {},
   "source": [
    "# PULL REQUESTS\n",
    "- If anyone can make the signout button clear the jwt cookie and redirect to login page (I was not able to figure this out)\n",
    "- Make your own endpoint mapping in the backend and have it do something you think is useful/cool"
   ]
  }
 ],
 "metadata": {
  "kernelspec": {
   "display_name": "Java",
   "language": "java",
   "name": "java"
  },
  "language_info": {
   "name": "java"
  }
 },
 "nbformat": 4,
 "nbformat_minor": 2
}
