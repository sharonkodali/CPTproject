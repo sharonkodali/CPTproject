{
 "cells": [
  {
   "cell_type": "markdown",
   "metadata": {},
   "source": [
    "---\n",
    "toc: true\n",
    "comments: true\n",
    "layout: post\n",
    "title: SASS/ JavaScript Login and Sign up pages\n",
    "description: Team teach \n",
    "courses: {'csp': {'week': 4}}\n",
    "type: hacks\n",
    "---"
   ]
  },
  {
   "cell_type": "markdown",
   "metadata": {},
   "source": [
    "# Login Feature"
   ]
  },
  {
   "cell_type": "code",
   "execution_count": null,
   "metadata": {
    "vscode": {
     "languageId": "html"
    }
   },
   "outputs": [],
   "source": [
    "jj"
   ]
  },
  {
   "cell_type": "markdown",
   "metadata": {},
   "source": [
    "## Simple HTML login framework"
   ]
  },
  {
   "cell_type": "code",
   "execution_count": null,
   "metadata": {
    "vscode": {
     "languageId": "html"
    }
   },
   "outputs": [],
   "source": [
    "<body>\n",
    "    <div>\n",
    "      <text>Enter your username and password to log in</text> \n",
    "    </div>\n",
    "    <div id=\"boxes\">\n",
    "        <text>Username: </text>\n",
    "        <input id=\"username\"></input>\n",
    "        <br><text>Password: </text>\n",
    "        <input id=\"password\"></input>\n",
    "        <br><button id=\"login\">Login</button>\n",
    "    </div>\n",
    "<body>"
   ]
  }
 ],
 "metadata": {
  "language_info": {
   "name": "python"
  },
  "orig_nbformat": 4
 },
 "nbformat": 4,
 "nbformat_minor": 2
}
