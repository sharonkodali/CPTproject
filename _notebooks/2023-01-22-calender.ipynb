{
 "cells": [
  {
   "cell_type": "markdown",
   "metadata": {},
   "source": [
    "---\n",
    "title: Steps to connect to Google calender \n",
    "layout: post\n",
    "description: Steps to connect to Google calender \n",
    "type: ccc\n",
    "courses: { csp: {week: 18 }}\n",
    "---"
   ]
  },
  {
   "cell_type": "markdown",
   "metadata": {},
   "source": [
    "# Step one \n",
    "- Go to the Google Developers Console.\n",
    "- Create a new project or select an existing one.\n",
    "- Search for the Google Calendar API and enable it.\n",
    "- Go to the \"Credentials\" tab and create credentials for a Desktop application.(This will download a credentials.json file.)\n"
   ]
  },
  {
   "cell_type": "markdown",
   "metadata": {},
   "source": [
    "# Step 2: Install Google Client Library\n",
    "- Open your terminal or command prompt and install the Google Client Library by running:\n",
    "pip install --upgrade google-api-python-client google-auth-httplib2 google-auth-oauthlib"
   ]
  },
  {
   "cell_type": "markdown",
   "metadata": {},
   "source": [
    "# Step 3: \n",
    "- Phyton code from research: \n",
    "from google_auth_oauthlib.flow import InstalledAppFlow\n",
    "from google.auth.transport.requests import Request\n",
    "from google.oauth2.credentials import Credentials\n",
    "from googleapiclient.discovery import build\n",
    "import datetime\n",
    "\n",
    "# If modifying these SCOPES, delete the file token.json.\n",
    "SCOPES = ['https://www.googleapis.com/auth/calendar']\n",
    "\n",
    "def authenticate_google_calendar():\n",
    "    creds = None\n",
    "    # The file token.json stores the user's access and refresh tokens, and is\n",
    "    # created automatically when the authorization flow completes for the first time.\n",
    "    if os.path.exists('token.json'):\n",
    "        creds = Credentials.from_authorized_user_file('token.json', SCOPES)\n",
    "    # If there are no (valid) credentials available, let the user log in.\n",
    "    if not creds or not creds.valid:\n",
    "        if creds and creds.expired and creds.refresh_token:\n",
    "            creds.refresh(Request())\n",
    "        else:\n",
    "            flow = InstalledAppFlow.from_client_secrets_file(\n",
    "                'credentials.json', SCOPES)\n",
    "            creds = flow.run_local_server(port=0)\n",
    "        # Save the credentials for the next run\n",
    "        with open('token.json', 'w') as token:\n",
    "            token.write(creds.to_json())\n",
    "    return creds\n",
    "\n",
    "def add_event_to_calendar(summary, location, description, start_time, end_time, timezone='America/Los_Angeles'):\n",
    "    creds = authenticate_google_calendar()\n",
    "    service = build('calendar', 'v3', credentials=creds)\n",
    "\n",
    "    event = {\n",
    "        'summary': summary,\n",
    "        'location': location,\n",
    "        'description': description,\n",
    "        'start': {\n",
    "            'dateTime': start_time,\n",
    "            'timeZone': timezone,\n",
    "        },\n",
    "        'end': {\n",
    "            'dateTime': end_time,\n",
    "            'timeZone': timezone,\n",
    "        },\n",
    "    }\n",
    "\n",
    "    event = service.events().insert(calendarId='primary', body=event).execute()\n",
    "    print(f\"Event created: {event.get('htmlLink')}\")\n",
    "\n",
    "# Example usage\n",
    "add_event_to_calendar(\n",
    "    summary='Example Event',\n",
    "    location='800 Howard St., San Francisco, CA 94103',\n",
    "    description='A chance to hear more about Google\\'s developer products.',\n",
    "    start_time='2024-01-30T09:00:00',\n",
    "    end_time\n",
    "\n"
   ]
  }
 ],
 "metadata": {
  "language_info": {
   "name": "python"
  },
  "orig_nbformat": 4
 },
 "nbformat": 4,
 "nbformat_minor": 2
}
