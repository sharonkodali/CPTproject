{
 "cells": [
  {
   "cell_type": "markdown",
   "metadata": {},
   "source": [
    "---\n",
    "comments: true\n",
    "layout: post\n",
    "toc: true\n",
    "title: Database Research \n",
    "description: Frontend and Backend developement process and considerations for CPT Project\n",
    "type: hacks\n",
    "courses: { compsci: {week: 4} }\n",
    "---"
   ]
  },
  {
   "cell_type": "markdown",
   "metadata": {},
   "source": [
    "## Types of Databases for Volunteer Work \n",
    "\n",
    "- Volunteer Match: VolunteerMatch is a platform that connects volunteers with organizations that need help. You can search for opportunities based on your location and interests.\n",
    "\n",
    "- Idealist: Idealist is a global platform that lists volunteer opportunities, internships, and jobs in the nonprofit sector. You can search for opportunities based on your skills and location.\n",
    "\n",
    "- All for Good: All for Good is a volunteer opportunity aggregator that pulls in opportunities from various sources. You can search for opportunities based on your location and interests.\n",
    "\n",
    "- Points of Light: Points of Light is an organization that focuses on volunteer service. Their website includes a database of volunteer opportunities that you can search based on your location.\n",
    "\n",
    "- HandsOn Network: HandsOn Network is a network of volunteer centers across the globe. They connect people with volunteer opportunities in their local communities.\n",
    "\n",
    "- Volunteering Solutions: This platform provides volunteer opportunities and internships abroad. If you're interested in international volunteering, this could be a good option.\n",
    "\n",
    "- DoSomething.org: DoSomething.org focuses on getting young people involved in social change. They list various campaigns and volunteer opportunities that you can participate in.\n",
    "\n",
    "These are all famous websites and organzations that have massive connections from not only around the United States, but also globally. However, to increase the success of users utilizing the databases, we must be able to limit the oppurtunities to a certain region or city (ie. a student in San Diego will have access to oppurtunities from all over the world but is only interested in the volunteer organizations in San Diego)"
   ]
  },
  {
   "cell_type": "markdown",
   "metadata": {},
   "source": [
    "## Creating Domains in Databases \n",
    "\n",
    "- Geocoding: Geocoding converts addresses into geographic coordinates (longitude and latitude)\n",
    "    - Needs API or geocoding service to convert \n",
    "        - Google Maps Geocoding API - Google Maps provides a Geocoding API that allows developers to convert addresses into geographic coordinates and vice versa. It also offers additional features like reverse geocoding, which converts coordinates into human-readable addresses.\n",
    "\n",
    "- OpenCage: OpenCage offers a geocoding API that supports forward and reverse geocoding. It provides global coverage and includes additional information such as timezone and currency.\n",
    "\n",
    "- Mapbox Geocoding API: Mapbox provides a geocoding API that can be used for converting locations into coordinates and vice versa. It's part of the broader Mapbox platform for mapping and location-based services.\n",
    "\n",
    "- HERE Geocoding API: HERE Technologies offers a geocoding API that supports both forward and reverse geocoding. It provides detailed location information and is used for various mapping and location-based applications.\n",
    "\n",
    "- Bing Maps API: Microsoft's Bing Maps API includes a geocoding service that allows developers to perform geocoding and reverse geocoding tasks. It integrates with Bing Maps for mapping purposes.\n",
    "\n",
    "All of these APIs cost a certain amount of money. "
   ]
  },
  {
   "cell_type": "markdown",
   "metadata": {},
   "source": [
    "## Interacting with Databases \n",
    "\n",
    "Below is a Python interaction with the SQLite database. "
   ]
  },
  {
   "cell_type": "code",
   "execution_count": null,
   "metadata": {},
   "outputs": [],
   "source": [
    "# Importing sqlite3 which is a part of the Python standard library \n",
    "\n",
    "import sqlite3\n",
    "\n",
    "# Establish a connection\n",
    "conn = sqlite3.connect('your_database.db') \n",
    "\n",
    "# Create a cursor object. Allows interaction with database with SQL queries\n",
    "cursor = conn.cursor()\n",
    "\n",
    "# Execute a query. t's a simple SELECT query that retrieves all columns (*) from a table named 'your_table'. You would replace 'your_table' with the actual table name you want to query.\n",
    "cursor.execute('SELECT * FROM your_table')\n",
    "\n",
    "# Fetch results and stores them\n",
    "results = cursor.fetchall()\n",
    "\n",
    "# Close connection. Releases sources \n",
    "conn.close()"
   ]
  },
  {
   "cell_type": "markdown",
   "metadata": {},
   "source": [
    "Python interaction with SQLite databse."
   ]
  },
  {
   "cell_type": "code",
   "execution_count": null,
   "metadata": {},
   "outputs": [],
   "source": [
    "import sqlite3\n",
    "\n",
    "# Establish a connection\n",
    "conn = sqlite3.connect('your_database.db')\n",
    "\n",
    "# Create a cursor object. Allows interaction with the database using SQL queries\n",
    "cursor = conn.cursor()\n",
    "\n",
    "# Create a table if it doesn't exist. Replace 'your_table' and define the columns accordingly.\n",
    "cursor.execute('''\n",
    "    CREATE TABLE IF NOT EXISTS your_table (\n",
    "        column1 INTEGER,\n",
    "        column2 TEXT,\n",
    "        column3 REAL\n",
    "        -- Add more columns as needed\n",
    "    )\n",
    "''')\n",
    "\n",
    "# Execute your SELECT query on the existing table\n",
    "cursor.execute('SELECT * FROM your_table')\n",
    "\n",
    "# Fetch results and store them\n",
    "results = cursor.fetchall()\n",
    "\n",
    "# Close the connection. Releases resources\n",
    "conn.close()"
   ]
  }
 ],
 "metadata": {
  "kernelspec": {
   "display_name": "Python 3",
   "language": "python",
   "name": "python3"
  },
  "language_info": {
   "name": "python",
   "version": "3.12.0"
  },
  "orig_nbformat": 4
 },
 "nbformat": 4,
 "nbformat_minor": 2
}
