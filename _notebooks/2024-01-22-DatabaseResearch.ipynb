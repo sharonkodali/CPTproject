{
 "cells": [
  {
   "cell_type": "markdown",
   "metadata": {},
   "source": [
    "---\n",
    "comments: true\n",
    "layout: post\n",
    "toc: true\n",
    "title: Database Research \n",
    "description: Frontend and Backend developement process and considerations for CPT Project\n",
    "type: hacks\n",
    "courses: { compsci: {week: 4} }\n",
    "---"
   ]
  },
  {
   "cell_type": "markdown",
   "metadata": {},
   "source": [
    "## Types of Databases for Volunteer Work \n",
    "\n",
    "    - Volunteer Match: VolunteerMatch is a platform that connects volunteers with organizations that need help. You can search for opportunities based on your location and interests.\n",
    "\n",
    "    - Idealist: Idealist is a global platform that lists volunteer opportunities, internships, and jobs in the nonprofit sector. You can search for opportunities based on your skills and location.\n",
    "\n",
    "    - All for Good: All for Good is a volunteer opportunity aggregator that pulls in opportunities from various sources. You can search for opportunities based on your location and interests.\n",
    "\n",
    "    - Points of Light: Points of Light is an organization that focuses on volunteer service. Their website includes a database of volunteer opportunities that you can search based on your location.\n",
    "\n",
    "    - HandsOn Network: HandsOn Network is a network of volunteer centers across the globe. They connect people with volunteer opportunities in their local communities.\n",
    "\n",
    "    - Volunteering Solutions: This platform provides volunteer opportunities and internships abroad. If you're interested in international volunteering, this could be a good option.\n",
    "\n",
    "    - DoSomething.org: DoSomething.org focuses on getting young people involved in social change. They list various campaigns and volunteer opportunities that you can participate in.\n",
    "\n",
    "These are all famous websites and organzations that have massive connections from not only around the United States, but also globally. However, to increase the success of users utilizing the databases, we must be able to limit the oppurtunities to a certain region or city (ie. a student in San Diego will have access to oppurtunities from all over the world but is only interested in the volunteer organizations in San Diego)"
   ]
  }
 ],
 "metadata": {
  "language_info": {
   "name": "python"
  },
  "orig_nbformat": 4
 },
 "nbformat": 4,
 "nbformat_minor": 2
}
