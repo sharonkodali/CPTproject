{
 "cells": [
  {
   "cell_type": "markdown",
   "metadata": {},
   "source": [
    "---\n",
    "toc: true\n",
    "comments: true\n",
    "layout: post\n",
    "title: Project 2 Brainstorm\n",
    "description: \n",
    "courses: {'csp': {'week': 4}}\n",
    "type: hacks\n",
    "---"
   ]
  },
  {
   "cell_type": "markdown",
   "metadata": {},
   "source": [
    "IDEA 1: \n",
    "- all 5 of us work on our own personal tracker\n",
    "- Sleeo tracker, Physical excerise tracker, Diet Tracker, Stress tracker, Glucose moniter\n",
    "- User will input data, and the system will spit out information based on that. For example, user inputs what time they slept and wake up and it will tell the user how if the amount they slept was healthy, give personalized tips for how to get more sleep, and also give out personailized information on the harmful effect of not getting enough sleep or veen getting too much sleep. You will also be able to log how you slept, if you snored, woke up, etc, just a general log. \n",
    "- All of these will come together to create a personal health app \n",
    "\n",
    "IDEA 2: \n",
    "- career coding hub\n",
    "- each career has it's own page, and each of us work on one career\n",
    "- it will feature coding projects, challenges, and simulations specific to that profession.\n",
    "- a dashboard where users can easily navigate and explore different careers. Include filters for interests, skills, and industries to help users find the most relevant coding opportunities.\n",
    "\n",
    "IDEA 3: \n",
    "- volunteering site\n",
    "- the website will have lots of volunteering oppurtunities, that high school students will be able to use\n"
   ]
  }
 ],
 "metadata": {
  "language_info": {
   "name": "python"
  },
  "orig_nbformat": 4
 },
 "nbformat": 4,
 "nbformat_minor": 2
}
