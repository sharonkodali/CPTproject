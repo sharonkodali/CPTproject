{
 "cells": [
  {
   "cell_type": "markdown",
   "metadata": {},
   "source": [
    "---\n",
    "toc: true\n",
    "comments: true\n",
    "layout: post\n",
    "title: CPT ideation-volunteering\n",
    "description: \n",
    "courses: {'TimeBox Schedule': {'week': 4}}\n",
    "type: hacks\n",
    "---"
   ]
  },
  {
   "cell_type": "markdown",
   "metadata": {},
   "source": [
    "## Overall Project Description\n",
    "\n",
    "- Our idea is to make a website which stores a different varity of volunteering organizations all around the world. We will then make filters where the user can pick what their interests and hobbies are so they can find volunteering oppurtuntites that align with their interests. We plan on making a a multitidue of different filters, based on past experience, age and location so the user can match with volunteering oppurtunities that are perfect for them! We will also include details about each volunteering organization, what they are looking for and their application process. \n",
    "\n",
    "#### Why we chose this\n",
    "\n",
    "- Escpecially as high schoolers who are required to do a minimum amount of volunteer hours, its often hard to find volunteer oppurtunities that align with our interests. A website that is easy to navigate and gives us access to different volunteering oppurtinities will encourage people to volunteer more. I think this website could be very useful for many people in our school who are looking for different oppurtunities. "
   ]
  },
  {
   "cell_type": "markdown",
   "metadata": {},
   "source": [
    "#### Frontend ideation\n",
    "\n",
    "- drop down menu where user can chose different categories of interest \n",
    "    - ex: Computer Science, Hospital, Religous, Environmental, Sports, Tutoring, Foodbanks etc. \n",
    "\n",
    "- Area to enter zip code which will then filter to oppurtunities in your area, or online options \n",
    "\n",
    "- After filtered, there is a short decription of each volunteering oprtunities, with important information\n",
    "\n",
    "- Some sort of creative and fun theme\n",
    "    - ideas: jungle, characters to help, fruit theme, career theme, space theme \n",
    "        - Important to be visually pleasing and easy to navigate. Make sure it is simple and no clutered design \n"
   ]
  },
  {
   "cell_type": "markdown",
   "metadata": {},
   "source": [
    "### Backend Ideation\n",
    "\n",
    "- Find database with different volunteering organizations\n",
    "- filtering system\n",
    "- Maybe try to incorporate AI - MAKE SURE TO CITE\n",
    "- Create a login and account where users are able to store the volunteering oppurtunities that they are interested in for later so they do not forget \n",
    "- Maybe the user can create an account with personalized preferences so then they are directed to the perfect volunteering match"
   ]
  }
 ],
 "metadata": {
  "language_info": {
   "name": "python"
  },
  "orig_nbformat": 4
 },
 "nbformat": 4,
 "nbformat_minor": 2
}
