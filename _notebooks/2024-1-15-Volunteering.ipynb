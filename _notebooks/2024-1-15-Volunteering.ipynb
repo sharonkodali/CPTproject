{
 "cells": [
  {
   "cell_type": "markdown",
   "metadata": {},
   "source": [
    "---\n",
    "toc: true\n",
    "comments: true\n",
    "layout: post\n",
    "title: CPT ideation-volunteering\n",
    "description: \n",
    "courses: {'csp': {'week': 4}}\n",
    "type: hacks\n",
    "---"
   ]
  },
  {
   "cell_type": "markdown",
   "metadata": {},
   "source": [
    "### Overall Project Description\n",
    "\n",
    "- Our idea is to make a website which stores a different varity of volunteering organizations all around the world. We will then make filters where the user can pick what their interests and hobbies are so they can find volunteering oppurtuntites that align with their interests. We plan on making a a multitidue of different filters, based on past experience, age and location so the user can match with volunteering oppurtunities that are perfect for them! We will also include details about each volunteering organization, what they are looking fore and their aplication process. \n",
    "\n",
    "##### Why we chose this\n",
    "\n",
    "- Escpecially as high schoolers who are required to do a minimum amount of volunteer hours, its often hard to find volunteer oppurtunities that align with our interests. A website that is easy to navigate and gives us access to different volunteering oppurtinities will encourage people to volunteer more. I think this website could be very useful for many people in our school who are looking for different oppurtunities. "
   ]
  }
 ],
 "metadata": {
  "language_info": {
   "name": "python"
  },
  "orig_nbformat": 4
 },
 "nbformat": 4,
 "nbformat_minor": 2
}
