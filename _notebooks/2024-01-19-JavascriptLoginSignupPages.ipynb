{
 "cells": [
  {
   "cell_type": "markdown",
   "metadata": {},
   "source": [
    "---\n",
    "toc: true\n",
    "comments: true\n",
    "layout: post\n",
    "title: Javascript Login and Signup Pages Team Teach\n",
    "description: P2 Group, Alisha, Peyton, Anika, Sharon, Tara\n",
    "courses: {'compsci': {'week': 20}}\n",
    "type: hacks\n",
    "---"
   ]
  },
  {
   "cell_type": "markdown",
   "metadata": {},
   "source": [
    "Errors: \n",
    "\n",
    "- 200 (OK): Returned on successful login or signup.\n",
    "- 401 (Unauthorized): Returned when a user enters incorrect login credentials.\n",
    "- 403 (Forbidden): Returned when a user tries to access a resource they don't have permission for.\n",
    "- 409 (Conflict): Can be used if a new user is trying to register with an email/username that already exists.\n",
    "\n",
    "- Error Handling: Implement proper error handling in Flask to return meaningful error messages and appropriate HTTP status codes."
   ]
  },
  {
   "cell_type": "code",
   "execution_count": null,
   "metadata": {
    "vscode": {
     "languageId": "html"
    }
   },
   "outputs": [],
   "source": [
    "SASS Styling\n",
    "\n",
    "form {\n",
    "    max-width: 400px;\n",
    "    margin: 0 auto;\n",
    "    padding: 20px;\n",
    "    background: #4E7DC3;\n",
    "    border-radius: 8px;\n",
    "    box-shadow: 0 4px 8px rgba(0, 0, 0, 0.1);\n",
    "    p {\n",
    "        margin-bottom: 15px;\n",
    "        label {\n",
    "            display: block;\n",
    "            margin-bottom: 5px;\n",
    "            font-weight: bold;\n",
    "        }\n",
    "        input {\n",
    "            width: 100%;\n",
    "            padding: 8px;\n",
    "            box-sizing: border-box;\n",
    "            margin-bottom: 8px;\n",
    "            border: 1px solid #8D8D8D;\n",
    "            border-radius: 4px;\n",
    "        }\n",
    "        button {\n",
    "            background: #2E406B;\n",
    "            color: #fff;\n",
    "            border: none;\n",
    "            padding: 10px 15px;\n",
    "            border-radius: 4px;\n",
    "            cursor: pointer;\n",
    "            font-size: 16px;\n",
    "        }\n",
    "    }\n",
    "}"
   ]
  },
  {
   "cell_type": "markdown",
   "metadata": {},
   "source": [
    "In custom-styles.scss...\n",
    "<img width=“344” src=“https://github.com/sharonkodali/CPTproject/assets/39902320/f2fb216d-63d6-453f-b432-02961a7b5109”>\n",
    "before SASS styling...\n",
    "<img width=“344” src= “https://github.com/sharonkodali/CPTproject/assets/39902320/2a6cd738-f25a-4945-bdb1-cfce9195ee91”>"
   ]
  },
  {
   "cell_type": "markdown",
   "metadata": {},
   "source": [
    "## Explanantion\n",
    "- the url vairable is set to a specific enpointendpoitn for user authentication\n",
    "- The body retrieves the user id and password from the HTML\n",
    "- creates a data object with the user id and the password \n",
    "- uses the fetch function to make a POST request to the aunthetication endpoint('url') with the specified autho0options\n",
    "- if the response is succesful, it redirects the user to the database page. \n",
    "- Checks if response status is 401, 404, or 403 and redirects to corrsponding page with the endpoint \n",
    "- The fetch function is used to asynchronously send and recienve data from a server \n",
    " "
   ]
  }
 ],
 "metadata": {
  "language_info": {
   "name": "python"
  },
  "orig_nbformat": 4
 },
 "nbformat": 4,
 "nbformat_minor": 2
}
