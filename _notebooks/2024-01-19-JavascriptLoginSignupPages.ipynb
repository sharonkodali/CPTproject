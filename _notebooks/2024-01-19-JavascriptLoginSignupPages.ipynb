{
 "cells": [
  {
   "cell_type": "markdown",
   "metadata": {},
   "source": [
    "---\n",
    "toc: true\n",
    "comments: true\n",
    "layout: post\n",
    "title: Javascript Login and Signup Pages Team Teach\n",
    "description: P2 Group, Alisha, Peyton, Anika, Sharon, Tara\n",
    "courses: {'compsci': {'week': 20}}\n",
    "type: hacks\n",
    "---"
   ]
  },
  {
   "cell_type": "markdown",
   "metadata": {},
   "source": [
    "Errors: \n",
    "\n",
    "- 200 (OK): Returned on successful login or signup.\n",
    "- 401 (Unauthorized): Returned when a user enters incorrect login credentials.\n",
    "- 403 (Forbidden): Returned when a user tries to access a resource they don't have permission for.\n",
    "- 409 (Conflict): Can be used if a new user is trying to register with an email/username that already exists.\n",
    "\n",
    "- Error Handling: Implement proper error handling in Flask to return meaningful error messages and appropriate HTTP status codes."
   ]
  },
  {
   "cell_type": "code",
   "execution_count": null,
   "metadata": {
    "vscode": {
     "languageId": "javascript"
    }
   },
   "outputs": [],
   "source": [
    "\n",
    ".authorizeHttpRequests(auth -> auth\n",
    "\t.requestMatchers(\"/authenticate\").permitAll()\n",
    "    .requestMatchers(\"/mvc/person/update/**\", \"/mvc/person/delete/**\").authenticated()\n",
    "\n",
    "    // .requestMatchers(\"/api/person/post/**\", \"/api/person/delete/**\").authenticated()\n",
    "    // Removed so anyone without a cookie can post\n",
    "\n",
    "    .requestMatchers(\"/api/person/delete/**\").authenticated()\n",
    "    .requestMatchers(\"/**\").permitAll()\n",
    ")"
   ]
  },
  {
   "cell_type": "markdown",
   "metadata": {},
   "source": [
    "Secruity: \n",
    "\n",
    "- this code sets up security policies for a web application, dictating which endpoints are accessible to all users and which are restricted to only those who are authenticated.\n",
    "- 'auth' represents the authorization configuration(rules/polices that say what users are allowed to do/access).\n",
    "- it's important to have since it can keep important details like user data protected, while more public parts of the application remain accessible to everyone. "
   ]
  },
  {
   "cell_type": "code",
   "execution_count": null,
   "metadata": {
    "vscode": {
     "languageId": "plaintext"
    }
   },
   "outputs": [],
   "source": [
    "@PostMapping( \"/post\")\n",
    "// @RequestParam is why user input needs to be a parameter\n",
    "public ResponseEntity<Object> postPerson(@RequestParam(\"email\") String email,\n",
    "                                         @RequestParam(\"password\") String password,\n",
    "                                         @RequestParam(\"name\") String name,\n",
    "                                         @RequestParam(\"dob\") String dobString) {\n",
    "    Date dob;\n",
    "    // dob handling\n",
    "    try {\n",
    "        dob = new SimpleDateFormat(\"MM-dd-yyyy\").parse(dobString);\n",
    "    } catch (Exception e) {\n",
    "        return new ResponseEntity<>(dobString +\" error; try MM-dd-yyyy\", HttpStatus.BAD_REQUEST);\n",
    "    }\n",
    "    // A person object WITHOUT ID will create a new record with default roles as student\n",
    "    Person person = new Person(email, password, name, dob);\n",
    "    personDetailsService.save(person);\n",
    "    return new ResponseEntity<>(email +\" is created successfully\", HttpStatus.CREATED);\n",
    "}"
   ]
  },
  {
   "cell_type": "markdown",
   "metadata": {},
   "source": [
    "Endpoint mapping \n",
    "- this code is an endpoint for creating new person records in the application.\n",
    "- processes data submitted by users (such as email, password, name, and date of birth)\n",
    "- the 'new person' represents the new account/user being made\n",
    "- this is important for the users to have their own personal data and profile, and the secruity we previously mentioned is important to protect this data from people who dont need access to it. "
   ]
  }
 ],
 "metadata": {
  "language_info": {
   "name": "python"
  },
  "orig_nbformat": 4
 },
 "nbformat": 4,
 "nbformat_minor": 2
}
