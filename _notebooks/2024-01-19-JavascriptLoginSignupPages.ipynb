{
 "cells": [
  {
   "cell_type": "markdown",
   "metadata": {},
   "source": [
    "---\n",
    "toc: true\n",
    "comments: true\n",
    "layout: post\n",
    "title: Javascript Login and Signup Pages Team Teach\n",
    "description: P2 Group, Alisha, Peyton, Anika, Sharon, Tara\n",
    "courses: {'compsci': {'week': 20}}\n",
    "type: hacks\n",
    "---"
   ]
  },
  {
   "cell_type": "markdown",
   "metadata": {},
   "source": [
    "Errors: \n",
    "\n",
    "- 200 (OK): Returned on successful login or signup.\n",
    "- 401 (Unauthorized): Returned when a user enters incorrect login credentials.\n",
    "- 403 (Forbidden): Returned when a user tries to access a resource they don't have permission for.\n",
    "- 409 (Conflict): Can be used if a new user is trying to register with an email/username that already exists.\n",
    "\n",
    "- Error Handling: Implement proper error handling in Flask to return meaningful error messages and appropriate HTTP status codes."
   ]
  },
  {
   "cell_type": "code",
   "execution_count": null,
   "metadata": {
    "vscode": {
     "languageId": "javascript"
    }
   },
   "outputs": [],
   "source": [
    "\n",
    ".authorizeHttpRequests(auth -> auth\n",
    "\t.requestMatchers(\"/authenticate\").permitAll()\n",
    "    .requestMatchers(\"/mvc/person/update/**\", \"/mvc/person/delete/**\").authenticated()\n",
    "\n",
    "    // .requestMatchers(\"/api/person/post/**\", \"/api/person/delete/**\").authenticated()\n",
    "    // Removed so anyone without a cookie can post\n",
    "\n",
    "    .requestMatchers(\"/api/person/delete/**\").authenticated()\n",
    "    .requestMatchers(\"/**\").permitAll()\n",
    ")"
   ]
  },
  {
   "cell_type": "markdown",
   "metadata": {},
   "source": [
    "Secruity: \n",
    "\n",
    "- this code sets up security policies for a web application, dictating which endpoints are accessible to all users and which are restricted to only those who are authenticated.\n",
    "- 'auth' represents the authorization configuration(rules/polices that say what users are allowed to do/access).\n",
    "- it's important to have since it can keep important details like user data protected, while more public parts of the application remain accessible to everyone. "
   ]
  },
  {
   "cell_type": "code",
   "execution_count": null,
   "metadata": {},
   "outputs": [],
   "source": [
    "@PostMapping( \"/post\")\n",
    "// @RequestParam is why user input needs to be a parameter\n",
    "public ResponseEntity<Object> postPerson(@RequestParam(\"email\") String email,\n",
    "                                         @RequestParam(\"password\") String password,\n",
    "                                         @RequestParam(\"name\") String name,\n",
    "                                         @RequestParam(\"dob\") String dobString) {\n",
    "    Date dob;\n",
    "    // dob handling\n",
    "    try {\n",
    "        dob = new SimpleDateFormat(\"MM-dd-yyyy\").parse(dobString);\n",
    "    } catch (Exception e) {\n",
    "        return new ResponseEntity<>(dobString +\" error; try MM-dd-yyyy\", HttpStatus.BAD_REQUEST);\n",
    "    }\n",
    "    // A person object WITHOUT ID will create a new record with default roles as student\n",
    "    Person person = new Person(email, password, name, dob);\n",
    "    personDetailsService.save(person);\n",
    "    return new ResponseEntity<>(email +\" is created successfully\", HttpStatus.CREATED);\n",
    "}"
   ]
  },
  {
   "cell_type": "markdown",
   "metadata": {},
   "source": [
    "Endpoint Mapping \n",
    "- this code is an endpoint for creating new person records in the application \n",
    "- processes data submitted by users (such as email, password, name, and date of birth)\n",
    "- the 'new person' represents the new account/user being made\\n\",\n",
    "- this is important for the users to have their own personal data and profile, and the secruity we previously mentioned is important to protect this data from people who dont need access to it. \""
   ]
  },
  {
   "cell_type": "markdown",
   "metadata": {},
   "source": [
    "SASS Styling "
   ]
  },
  {
   "cell_type": "code",
   "execution_count": null,
   "metadata": {},
   "outputs": [],
   "source": [
    "form {\n",
    "    max-width: 400px;\n",
    "    margin: 0 auto;\n",
    "    padding: 20px;\n",
    "    background: #4e7dc3;\n",
    "    border-radius: 8px;\n",
    "    box-shadow: 0 4px 8px rgba(0, 0, 0, 0.1);\n",
    "\n",
    "    p {\n",
    "        margin-bottom: 15px;\n",
    "\n",
    "        label {\n",
    "            display: block;\n",
    "            margin-bottom: 5px;\n",
    "            font-weight: bold;\n",
    "        }\n",
    "\n",
    "        input {\n",
    "            width: 100%;\n",
    "            padding: 8px;\n",
    "            box-sizing: border-box;\n",
    "            margin-bottom: 8px;\n",
    "            border: 1px solid #8d8d8d;\n",
    "            border-radius: 4px;\n",
    "        }\n",
    "\n",
    "        button {\n",
    "            background: #2e406b;\n",
    "            color: #fff;\n",
    "            border: none;\n",
    "            padding: 10px 15px;\n",
    "            border-radius: 4px;\n",
    "            cursor: pointer;\n",
    "            font-size: 16px;\n",
    "        }\n",
    "    }\n",
    "}"
   ]
  },
  {
   "cell_type": "markdown",
   "metadata": {},
   "source": [
    "In custom-styles.scss...\n",
    "\n",
    "<img width=\"344\" src=\"https://github.com/sharonkodali/CPTproject/assets/39902320/f2fb216d-63d6-453f-b432-02961a7b5109\">\n"
   ]
  },
  {
   "cell_type": "markdown",
   "metadata": {},
   "source": [
    "before SASS styling...\n",
    "\n",
    "<img width=\"344\" src= \"https://github.com/sharonkodali/CPTproject/assets/39902320/2a6cd738-f25a-4945-bdb1-cfce9195ee91\">"
   ]
  },
  {
   "cell_type": "markdown",
   "metadata": {},
   "source": [
    "## Required HTML properties\n",
    "- Most HTML Elements:\n",
    "    - Class: used to assign html elements to there own SASS\n",
    "    - ID: used mostly in javascript to identify a single element in an entire page full of HTML\n",
    "- Input Fields:\n",
    "    - Placeholder: puts text inside an input to help the user what to input\n",
    "- Buttons:\n",
    "    - onclick: runs a javascript function when clicked\n",
    "    - note: onclick can be replaced with event listeners, although onclick is simpler to code\n",
    "## Essential HTML Elements Required\n",
    "- Container: The primary Div that holds all the elements inside of it, first layer\n",
    "- Card: A Div that will hold username, password buttons\n",
    "- Input fields and buttons: Where the user will put there information/login\n",
    "- Common SASS that a Container will have:\n",
    "    - display\n",
    "    - justify-content/align items\n",
    "    - color\n",
    "# Simplified Code\n",
    "```html\n",
    "<div class=\"CONTAINER\">\n",
    "    <div class=\"CARD\">\n",
    "        <h3>Login</h3>\n",
    "        <input id=\"signInEmailInput\" class=\"input\" placeholder=\"Email\">\n",
    "        <input id=\"signInPasswordInput\" class=\"input\" placeholder=\"Password\">\n",
    "        <button class=\"signInButton\" onclick=\"login_user()\">Login</button>\n",
    "    </div>\n",
    "</div>\n",
    "```\n",
    "# Basic HTML Login\n",
    "<div class=\"CONTAINER\">\n",
    "    <div class=\"CARD\">\n",
    "        <h3>Login</h3>\n",
    "        <input id=\"signInEmailInput\" class=\"input\" placeholder=\"Email\">\n",
    "        <input id=\"signInPasswordInput\" class=\"input\" placeholder=\"Password\">\n",
    "        <button class=\"signInButton\" onclick=\"login_user()\">Login</button>\n",
    "    </div> \n",
    "</div>\n",
    "# userDbRequest Function (What is its Purpose?)\n",
    "- Adds data to our frontend html fragment, which will store our data.\n",
    "- Creating data in our frontend database view which users can see with authentication (login).\n",
    "html fragment will be our table which we can input with data using our function.\n",
    "<!-- HTML table fragment for page -->\n",
    "<table>\n",
    "  <thead>\n",
    "  <tr>\n",
    "    <th>Name</th>\n",
    "    <th>ID</th>\n",
    "    <th>Age</th>\n",
    "  </tr>\n",
    "  </thead>\n",
    "  <tbody id=\"result\">\n",
    "    <!-- javascript generated data -->\n",
    "  </tbody>\n",
    "</table>"
   ]
  },
  {
   "cell_type": "code",
   "execution_count": null,
   "metadata": {},
   "outputs": [],
   "source": [
    "type=\"module\">\n",
    "    // uri variable and options object are obtained from config.js\n",
    "    import { uri, options } from '{{site.baseurl}}/assets/js/api/config.js';\n",
    "    function login_user(){\n",
    "        // Set Authenticate endpoint\n",
    "        const url = uri + '/api/users/authenticate';\n",
    "        // Set body of request to include login data from DOM\n",
    "        const body = {\n",
    "            uid: document.getElementById(\"uid\").value,\n",
    "            password: document.getElementById(\"password\").value,\n",
    "        };\n",
    "        // Change options according to Authentication requirements\n",
    "        const authOptions = {\n",
    "            ...options, // This will copy all properties from options\n",
    "            method: 'POST', // Override the method property\n",
    "            cache: 'no-cache', // Set the cache property\n",
    "            body: JSON.stringify(body)\n",
    "        };\n",
    "        // Fetch JWT\n",
    "        fetch(url, authOptions)\n",
    "        .then(response => {\n",
    "            // handle error response from Web API\n",
    "            if (!response.ok) {\n",
    "                if (response.status === 401) {\n",
    "                    // Unauthorized - Redirect to 401 error page\n",
    "                    window.location.href = \"{{site.baseurl}}/errors/401.html\";\n",
    "                } else if (response.status === 403) {\n",
    "                    // Forbidden - Redirect to 403 error page\n",
    "                    window.location.href = \"{{site.baseurl}}/errors/403.html\";\n",
    "                } else if (response.status === 404) {\n",
    "                    // Not Found - Redirect to 404 error page\n",
    "                    window.location.href = \"{{site.baseurl}}/error/404.html\";\n",
    "                } else {\n",
    "                    // Handle other error responses\n",
    "                    const errorMsg = 'Login error: ' + response.status;\n",
    "                    console.log(errorMsg);\n",
    "                }\n",
    "                return;\n",
    "            }\n",
    "            // Success!!!\n",
    "            // Redirect to the database page\n",
    "            window.location.href = \"{{site.baseurl}}/data/database\";\n",
    "        })\n",
    "        // catch fetch errors (ie ACCESS to server blocked)\n",
    "        .catch(err => {\n",
    "            console.error(err);\n",
    "        });\n",
    "    }\n",
    "    // Attach login_user to the window object, allowing access to form action\n",
    "    window.login_user = login_user;\n"
   ]
  },
  {
   "cell_type": "markdown",
   "metadata": {},
   "source": [
    "Explanantion\n",
    "the url vairable is set to a specific enpointendpoitn for user authentication\n",
    "The body retrieves the user id and password from the HTML\n",
    "creates a data object with the user id and the password\n",
    "uses the fetch function to make a POST request to the aunthetication endpoint('url') with the specified autho0options\n",
    "if the response is succesful, it redirects the user to the database page.\n",
    "Checks if response status is 401, 404, or 403 and redirects to corrsponding page with the endpoint"
   ]
  }
 ],
 "metadata": {
  "kernelspec": {
   "display_name": "Python 3",
   "language": "python",
   "name": "python3"
  },
  "language_info": {
   "name": "python",
   "version": "3.11.5"
  },
  "orig_nbformat": 4
 },
 "nbformat": 4,
 "nbformat_minor": 2
}
