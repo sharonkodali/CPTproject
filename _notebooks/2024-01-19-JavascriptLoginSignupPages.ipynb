{
 "cells": [
  {
   "cell_type": "markdown",
   "metadata": {},
   "source": [
    "---\n",
    "toc: true\n",
    "comments: true\n",
    "layout: post\n",
    "title: Javascript Login and Signup Pages Team Teach\n",
    "description: P2 Group, Alisha, Peyton, Anika, Sharon, Tara\n",
    "courses: {'compsci': {'week': 20}}\n",
    "type: hacks\n",
    "---"
   ]
  },
  {
   "cell_type": "markdown",
   "metadata": {},
   "source": [
    "Errors: \n",
    "\n",
    "- 200 (OK): Returned on successful login or signup.\n",
    "- 401 (Unauthorized): Returned when a user enters incorrect login credentials.\n",
    "- 403 (Forbidden): Returned when a user tries to access a resource they don't have permission for.\n",
    "- 409 (Conflict): Can be used if a new user is trying to register with an email/username that already exists.\n",
    "\n",
    "- Error Handling: Implement proper error handling in Flask to return meaningful error messages and appropriate HTTP status codes."
   ]
  },
  {
   "cell_type": "code",
   "execution_count": null,
   "metadata": {
    "vscode": {
     "languageId": "javascript"
    }
   },
   "outputs": [],
   "source": [
    "\n",
    "<script type=\"module\">\n",
    "    // uri variable and options object are obtained from config.js\n",
    "    import { uri, options } from '{{site.baseurl}}/assets/js/api/config.js';\n",
    "\n",
    "    function login_user(){\n",
    "        // Set Authenticate endpoint\n",
    "        const url = uri + '/api/users/authenticate';\n",
    "\n",
    "        // Set body of request to include login data from DOM\n",
    "        const body = {\n",
    "            uid: document.getElementById(\"uid\").value,\n",
    "            password: document.getElementById(\"password\").value,\n",
    "        };\n",
    "\n",
    "        // Change options according to Authentication requirements\n",
    "        const authOptions = {\n",
    "            ...options, // This will copy all properties from options\n",
    "            method: 'POST', // Override the method property\n",
    "            cache: 'no-cache', // Set the cache property\n",
    "            body: JSON.stringify(body)\n",
    "        };\n",
    "\n",
    "        // Fetch JWT\n",
    "        fetch(url, authOptions)\n",
    "        .then(response => {\n",
    "            // handle error response from Web API\n",
    "            if (!response.ok) {\n",
    "                if (response.status === 401) {\n",
    "                    // Unauthorized - Redirect to 401 error page\n",
    "                    window.location.href = \"{{site.baseurl}}/errors/401.html\";\n",
    "                } else if (response.status === 403) {\n",
    "                    // Forbidden - Redirect to 403 error page\n",
    "                    window.location.href = \"{{site.baseurl}}/errors/403.html\";\n",
    "                } else if (response.status === 404) {\n",
    "                    // Not Found - Redirect to 404 error page\n",
    "                    window.location.href = \"{{site.baseurl}}/error/404.html\";\n",
    "                } else {\n",
    "                    // Handle other error responses\n",
    "                    const errorMsg = 'Login error: ' + response.status;\n",
    "                    console.log(errorMsg);\n",
    "                }\n",
    "                return;\n",
    "\n",
    "            }\n",
    "            // Success!!!\n",
    "            // Redirect to the database page\n",
    "            window.location.href = \"{{site.baseurl}}/data/database\";\n",
    "        })\n",
    "        // catch fetch errors (ie ACCESS to server blocked)\n",
    "        .catch(err => {\n",
    "            console.error(err);\n",
    "        });\n",
    "    }\n",
    "\n",
    "    // Attach login_user to the window object, allowing access to form action\n",
    "    window.login_user = login_user;\n",
    "</script>"
   ]
  },
  {
   "cell_type": "markdown",
   "metadata": {},
   "source": [
    "## Explanantion\n",
    "- the url vairable is set to a specific enpointendpoitn for user authentication\n",
    "- The body retrieves the user id and password from the HTML\n",
    "- creates a data object with the user id and the password \n",
    "- uses the fetch function to make a POST request to the aunthetication endpoint('url') with the specified autho0options\n",
    "- if the response is succesful, it redirects the user to the database page. \n",
    "- Checks if response status is 401, 404, or 403 and redirects to corrsponding page with the endpoint \n",
    "\n",
    "test \n",
    " "
   ]
  }
 ],
 "metadata": {
  "language_info": {
   "name": "python"
  },
  "orig_nbformat": 4
 },
 "nbformat": 4,
 "nbformat_minor": 2
}
