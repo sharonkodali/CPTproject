{
 "cells": [
  {
   "cell_type": "markdown",
   "metadata": {},
   "source": [
    "---\n",
    "toc: true\n",
    "comments: true\n",
    "layout: post\n",
    "title: Javascript Login and Signup Pages Team Teach\n",
    "description: P2 Group, Alisha, Peyton, Anika, Sharon, Tara\n",
    "courses: {'compsci': {'week': 20}}\n",
    "type: hacks\n",
    "---"
   ]
  },
  {
   "cell_type": "markdown",
   "metadata": {},
   "source": [
    "### Backend: Flask API\n",
    "\n",
    "- User Authentication: Use Flask to handle authentication. This will involve user registration and login processes. You can use extensions like Flask-Login for session management and Flask-Bcrypt for password hashing.\n",
    "\n",
    "- Database Connection: Use a database to store user credentials. SQLAlchemy is a popular ORM for Flask that can be used to interact with your database in a Pythonic way.\n",
    "\n",
    "# API Endpoints:\n",
    "\n",
    "- Signup Endpoint: This should handle user registration, storing user data in the database.\n",
    "- Login Endpoint: This should authenticate user credentials. Upon successful authentication, it can return a success status.\n",
    "\n",
    "# HTTP Status Codes:\n",
    "\n",
    "- 200 (OK): Returned on successful login or signup.\n",
    "- 401 (Unauthorized): Returned when a user enters incorrect login credentials.\n",
    "- 403 (Forbidden): Returned when a user tries to access a resource they don't have permission for.\n",
    "- 409 (Conflict): Can be used if a new user is trying to register with an email/username that already exists.\n",
    "\n",
    "- Error Handling: Implement proper error handling in Flask to return meaningful error messages and appropriate HTTP status codes."
   ]
  },
  {
   "cell_type": "markdown",
   "metadata": {},
   "source": [
    "### Frontend: HTML, CSS/SASS, JavaScript\n",
    "\n",
    "- Login and Signup Forms: Create forms for login and signup. Use HTML5 and SASS for styling.\n",
    "\n",
    "# Handling Responses:\n",
    "\n",
    "- Use JavaScript to handle form submissions.\n",
    "- Send AJAX requests to your Flask backend.\n",
    "- Handle different responses (200, 401, 403, etc.) and update the UI accordingly to inform the user of the status of their request.\n",
    "SASS Styling:\n",
    "\n",
    "- Use SASS to create a more advanced and maintainable styling.\n",
    "- You can use features like variables, nesting, mixins, and functions to enhance the style of your forms.\n",
    "- Client-Side Validation: Add client-side validation to provide immediate feedback (like checking for empty fields, valid email formats, and password strength)."
   ]
  }
 ],
 "metadata": {
  "language_info": {
   "name": "python"
  },
  "orig_nbformat": 4
 },
 "nbformat": 4,
 "nbformat_minor": 2
}
