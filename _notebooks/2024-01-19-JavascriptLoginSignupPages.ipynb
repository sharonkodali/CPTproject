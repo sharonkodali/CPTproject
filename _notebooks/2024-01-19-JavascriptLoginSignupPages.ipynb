{
 "cells": [
  {
   "cell_type": "markdown",
   "metadata": {},
   "source": [
    "---\n",
    "toc: true\n",
    "comments: true\n",
    "layout: post\n",
    "title: Javascript Login and Signup Pages Team Teach\n",
    "description: P2 Group, Alisha, Peyton, Anika, Sharon, Tara\n",
    "courses: {'compsci': {'week': 20}}\n",
    "type: hacks\n",
    "---"
   ]
  },
  {
   "cell_type": "markdown",
   "metadata": {},
   "source": [
    "Errors: \n",
    "\n",
    "- 200 (OK): Returned on successful login or signup.\n",
    "- 401 (Unauthorized): Returned when a user enters incorrect login credentials.\n",
    "- 403 (Forbidden): Returned when a user tries to access a resource they don't have permission for.\n",
    "- 409 (Conflict): Can be used if a new user is trying to register with an email/username that already exists.\n",
    "\n",
    "- Error Handling: Implement proper error handling in Flask to return meaningful error messages and appropriate HTTP status codes."
   ]
  }
 ],
 "metadata": {
  "language_info": {
   "name": "python"
  },
  "orig_nbformat": 4
 },
 "nbformat": 4,
 "nbformat_minor": 2
}
