{
 "cells": [
  {
   "cell_type": "markdown",
   "metadata": {},
   "source": [
    "---\n",
    "toc: true\n",
    "comments: true\n",
    "layout: post\n",
    "title: Javascript Login and Signup Pages Team Teach\n",
    "description: P2 Group, Alisha, Peyton, Anika, Sharon, Tara\n",
    "courses: {'compsci': {'week': 20}}\n",
    "type: hacks\n",
    "---"
   ]
  },
  {
   "cell_type": "markdown",
   "metadata": {},
   "source": [
    "Errors: \n",
    "\n",
    "- 200 (OK): Returned on successful login or signup.\n",
    "- 401 (Unauthorized): Returned when a user enters incorrect login credentials.\n",
    "- 403 (Forbidden): Returned when a user tries to access a resource they don't have permission for.\n",
    "- 409 (Conflict): Can be used if a new user is trying to register with an email/username that already exists.\n",
    "\n",
    "- Error Handling: Implement proper error handling in Flask to return meaningful error messages and appropriate HTTP status codes."
   ]
  },
  {
   "cell_type": "code",
   "execution_count": null,
   "metadata": {
    "vscode": {
     "languageId": "javascript"
    }
   },
   "outputs": [],
   "source": [
    "\n",
    ".authorizeHttpRequests(auth -> auth\n",
    "\t.requestMatchers(\"/authenticate\").permitAll()\n",
    "    .requestMatchers(\"/mvc/person/update/**\", \"/mvc/person/delete/**\").authenticated()\n",
    "\n",
    "    // .requestMatchers(\"/api/person/post/**\", \"/api/person/delete/**\").authenticated()\n",
    "    // Removed so anyone without a cookie can post\n",
    "\n",
    "    .requestMatchers(\"/api/person/delete/**\").authenticated()\n",
    "    .requestMatchers(\"/**\").permitAll()\n",
    ")"
   ]
  },
  {
   "cell_type": "markdown",
   "metadata": {},
   "source": [
    "Secruity: \n",
    "\n",
    "- this code sets up security policies for a web application, dictating which endpoints are accessible to all users and which are restricted to only those who are authenticated.\n",
    "- 'auth' represents the authorization configuration(rules/polices that say what users are allowed to do/access).\n",
    "- it's important to have since it can keep important details like user data protected, while more public parts of the application remain accessible to everyone. "
   ]
  },
  {
   "cell_type": "code",
   "execution_count": null,
   "metadata": {
    "vscode": {
     "languageId": "javascript"
    }
   },
   "outputs": [],
   "source": [
    "@PostMapping( \"/post\")\n",
    "// @RequestParam is why user input needs to be a parameter\n",
    "public ResponseEntity<Object> postPerson(@RequestParam(\"email\") String email,\n",
    "                                         @RequestParam(\"password\") String password,\n",
    "                                         @RequestParam(\"name\") String name,\n",
    "                                         @RequestParam(\"dob\") String dobString) {\n",
    "    Date dob;\n",
    "    // dob handling\n",
    "    try {\n",
    "        dob = new SimpleDateFormat(\"MM-dd-yyyy\").parse(dobString);\n",
    "    } catch (Exception e) {\n",
    "        return new ResponseEntity<>(dobString +\" error; try MM-dd-yyyy\", HttpStatus.BAD_REQUEST);\n",
    "    }\n",
    "    // A person object WITHOUT ID will create a new record with default roles as student\n",
    "    Person person = new Person(email, password, name, dob);\n",
    "    personDetailsService.save(person);\n",
    "    return new ResponseEntity<>(email +\" is created successfully\", HttpStatus.CREATED);\n",
    "}"
   ]
  },
  {
   "cell_type": "markdown",
   "metadata": {},
   "source": [
<<<<<<< HEAD
    "Endpoint mapping \n",
    "- this code is an endpoint for creating new person records in the application.\n",
    "- processes data submitted by users (such as email, password, name, and date of birth)\n",
    "- the 'new person' represents the new account/user being made\n",
    "- this is important for the users to have their own personal data and profile, and the secruity we previously mentioned is important to protect this data from people who dont need access to it. "
=======
    "SASS Styling "
   ]
  },
  {
   "cell_type": "code",
   "execution_count": null,
   "metadata": {
    "vscode": {
     "languageId": "plaintext"
    }
   },
   "outputs": [],
   "source": [
    "form {\n",
    "    max-width: 400px;\n",
    "    margin: 0 auto;\n",
    "    padding: 20px;\n",
    "    background: #4e7dc3;\n",
    "    border-radius: 8px;\n",
    "    box-shadow: 0 4px 8px rgba(0, 0, 0, 0.1);\n",
    "\n",
    "    p {\n",
    "        margin-bottom: 15px;\n",
    "\n",
    "        label {\n",
    "            display: block;\n",
    "            margin-bottom: 5px;\n",
    "            font-weight: bold;\n",
    "        }\n",
    "\n",
    "        input {\n",
    "            width: 100%;\n",
    "            padding: 8px;\n",
    "            box-sizing: border-box;\n",
    "            margin-bottom: 8px;\n",
    "            border: 1px solid #8d8d8d;\n",
    "            border-radius: 4px;\n",
    "        }\n",
    "\n",
    "        button {\n",
    "            background: #2e406b;\n",
    "            color: #fff;\n",
    "            border: none;\n",
    "            padding: 10px 15px;\n",
    "            border-radius: 4px;\n",
    "            cursor: pointer;\n",
    "            font-size: 16px;\n",
    "        }\n",
    "    }\n",
    "}"
   ]
  },
  {
   "cell_type": "markdown",
   "metadata": {},
   "source": [
    "In custom-styles.scss...\n",
    "\n",
    "<img width=\"344\" src=\"https://github.com/sharonkodali/CPTproject/assets/39902320/f2fb216d-63d6-453f-b432-02961a7b5109\">\n"
   ]
  },
  {
   "cell_type": "markdown",
   "metadata": {},
   "source": [
    "before SASS styling: \n",
    "\n",
    "<img width=\"344\" src= \"https://github.com/sharonkodali/CPTproject/assets/39902320/2a6cd738-f25a-4945-bdb1-cfce9195ee91\">"
>>>>>>> 5054c91 (SASS styling)
   ]
  }
 ],
 "metadata": {
  "language_info": {
   "name": "python"
  },
  "orig_nbformat": 4
 },
 "nbformat": 4,
 "nbformat_minor": 2
}
